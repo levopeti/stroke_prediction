{
 "cells": [
  {
   "cell_type": "code",
   "execution_count": null,
   "id": "5a9d368d",
   "metadata": {},
   "outputs": [],
   "source": [
    "import numpy as np\n",
    "import pandas as pd\n",
    "#from algorithm.measurement.accdb_reading import get_measure_df\n",
    "from algorithm.measurement.measurement_collector import MeasurementCollector\n",
    "from tqdm import tqdm\n",
    "from random import random\n",
    "import json\n",
    "import requests\n",
    "\n",
    "import matplotlib.pyplot as plt\n",
    "import matplotlib\n",
    "%matplotlib inline\n",
    "matplotlib.rcParams['figure.figsize'] = [15, 15]\n",
    " \n",
    "_db_path = \"/home/levcsi/projects/stroke_prediction/data/WUS-v4m.accdb\"\n",
    "_m_path = \"/home/levcsi/projects/stroke_prediction/data/biocal.xlsx\"\n",
    "_ucanaccess_path = \n",
    "mc = MeasurementCollector('/home/levcsi/projects/stroke_prediction/data', _db_path, _m_path,\n",
    "                         synchronizing=False)"
   ]
  },
  {
   "cell_type": "code",
   "execution_count": null,
   "id": "a6eeb28b",
   "metadata": {},
   "outputs": [],
   "source": []
  }
 ],
 "metadata": {
  "kernelspec": {
   "display_name": "sp_venv",
   "language": "python",
   "name": "sp_venv"
  },
  "language_info": {
   "codemirror_mode": {
    "name": "ipython",
    "version": 3
   },
   "file_extension": ".py",
   "mimetype": "text/x-python",
   "name": "python",
   "nbconvert_exporter": "python",
   "pygments_lexer": "ipython3",
   "version": "3.6.9"
  }
 },
 "nbformat": 4,
 "nbformat_minor": 5
}
