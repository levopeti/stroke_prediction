{
 "cells": [
  {
   "cell_type": "code",
   "execution_count": 1,
   "id": "cb4ed8c6",
   "metadata": {
    "pycharm": {
     "name": "#%%\n"
    }
   },
   "outputs": [],
   "source": [
    "%load_ext autoreload\n",
    "%autoreload 2"
   ]
  },
  {
   "cell_type": "code",
   "execution_count": 1,
   "id": "2194100e",
   "metadata": {
    "pycharm": {
     "name": "#%%\n"
    },
    "scrolled": false
   },
   "outputs": [
    {
     "name": "stderr",
     "output_type": "stream",
     "text": [
      "2022-04-26 22:11:57.011994: W tensorflow/stream_executor/platform/default/dso_loader.cc:64] Could not load dynamic library 'libcudart.so.11.0'; dlerror: libcudart.so.11.0: cannot open shared object file: No such file or directory\n",
      "2022-04-26 22:11:57.012104: I tensorflow/stream_executor/cuda/cudart_stub.cc:29] Ignore above cudart dlerror if you do not have a GPU set up on your machine.\n",
      "WARNING:routine signature not found for: PUBLIC.ROUNDWA(INTERVAL DAY TO SECOND)\n",
      "WARNING:routine signature not found for: PUBLIC.ROUNDWA(INTERVAL DAY TO SECOND)\n",
      "WARNING:user lacks privilege or object not found: NEWROW.Z_1E0AE\n",
      "WARNING:user lacks privilege or object not found: NEWROW.Z_1E0AE\n",
      "WARNING:user lacks privilege or object not found: NEWROW.Z_1E0AU\n",
      "WARNING:user lacks privilege or object not found: NEWROW.Z_1E0AU\n"
     ]
    },
    {
     "name": "stdout",
     "output_type": "stream",
     "text": [
      "\n",
      "##### Load measurements for TRAIN #####\n",
      "\u001b[34m### 202110230 (5, 5) ###\u001b[0m\n",
      "\u001b[31mmeasurement is not found in aux data\u001b[0m\n",
      "\u001b[32mmeasurement_path_dict is OK\u001b[0m\n",
      "\u001b[34m### 202110251 (2, 3) ###\u001b[0m\n",
      "\u001b[32mmeasurement_path_dict is OK\u001b[0m\n",
      "\u001b[34m### 202110280 (0, 1) ###\u001b[0m\n",
      "\u001b[32mmeasurement_path_dict is OK\u001b[0m\n",
      "\u001b[34m### 202111021 (2, 3) ###\u001b[0m\n",
      "\u001b[32mmeasurement_path_dict is OK\u001b[0m\n",
      "\u001b[34m### 202111041 (0, 0) ###\u001b[0m\n",
      "\u001b[32mmeasurement_path_dict is OK\u001b[0m\n",
      "\u001b[34m### 202111141 (5, 5) ###\u001b[0m\n",
      "\u001b[32mmeasurement_path_dict is OK\u001b[0m\n",
      "\u001b[34m### 202111181 (0, 0) ###\u001b[0m\n",
      "\u001b[32mmeasurement_path_dict is OK\u001b[0m\n",
      "\u001b[34m### 202112020 (5, 5) ###\u001b[0m\n",
      "\u001b[32mmeasurement_path_dict is OK\u001b[0m\n",
      "\u001b[34m### 202112131 (2, 4) ###\u001b[0m\n",
      "\u001b[32mmeasurement_path_dict is OK\u001b[0m\n",
      "\u001b[34m### 202112171 (2, 4) ###\u001b[0m\n",
      "\u001b[32mmeasurement_path_dict is OK\u001b[0m\n",
      "\u001b[34m### 202201061 (0, 0) ###\u001b[0m\n",
      "\u001b[32mmeasurement_path_dict is OK\u001b[0m\n",
      "\u001b[34m### 202201191 (4, 4) ###\u001b[0m\n",
      "\u001b[32mmeasurement_path_dict is OK\u001b[0m\n",
      "\u001b[34m### 202201310 (5, 5) ###\u001b[0m\n",
      "\u001b[31mmissing keys: ALL\u001b[0m\n",
      "\u001b[31mmeasurement is not valid (deleted)\u001b[0m\n",
      "\u001b[34m### 202203021 (0, 3) ###\u001b[0m\n",
      "\u001b[31mmissing keys: ALL\u001b[0m\n",
      "\u001b[31mmeasurement is not valid (deleted)\u001b[0m\n",
      "\u001b[34m### 202203221 (1, 2) ###\u001b[0m\n",
      "\u001b[31mmissing keys: ALL\u001b[0m\n",
      "\u001b[31mmeasurement is not valid (deleted)\u001b[0m\n",
      "\u001b[34m### 202203230 (1, 1) ###\u001b[0m\n",
      "\u001b[32mmeasurement_path_dict is OK\u001b[0m\n",
      "\n",
      "##### Load measurements for TEST #####\n",
      "\u001b[34m### 202110230 (5, 5) ###\u001b[0m\n",
      "\u001b[31mmeasurement is not found in aux data\u001b[0m\n",
      "\u001b[31mmissing keys: ALL\u001b[0m\n",
      "\u001b[31mmeasurement is not valid (deleted)\u001b[0m\n",
      "\u001b[34m### 202110251 (2, 3) ###\u001b[0m\n",
      "\u001b[31mmissing keys: ALL\u001b[0m\n",
      "\u001b[31mmeasurement is not valid (deleted)\u001b[0m\n",
      "\u001b[34m### 202110280 (0, 1) ###\u001b[0m\n",
      "\u001b[31mmissing keys: ALL\u001b[0m\n",
      "\u001b[31mmeasurement is not valid (deleted)\u001b[0m\n",
      "\u001b[34m### 202111021 (2, 3) ###\u001b[0m\n",
      "\u001b[31mmissing keys: ALL\u001b[0m\n",
      "\u001b[31mmeasurement is not valid (deleted)\u001b[0m\n",
      "\u001b[34m### 202111041 (0, 0) ###\u001b[0m\n",
      "\u001b[31mmissing keys: ALL\u001b[0m\n",
      "\u001b[31mmeasurement is not valid (deleted)\u001b[0m\n",
      "\u001b[34m### 202111141 (5, 5) ###\u001b[0m\n",
      "\u001b[31mmissing keys: ALL\u001b[0m\n",
      "\u001b[31mmeasurement is not valid (deleted)\u001b[0m\n",
      "\u001b[34m### 202111181 (0, 0) ###\u001b[0m\n",
      "\u001b[31mmissing keys: ALL\u001b[0m\n",
      "\u001b[31mmeasurement is not valid (deleted)\u001b[0m\n",
      "\u001b[34m### 202112020 (5, 5) ###\u001b[0m\n",
      "\u001b[31mmissing keys: ALL\u001b[0m\n",
      "\u001b[31mmeasurement is not valid (deleted)\u001b[0m\n",
      "\u001b[34m### 202112131 (2, 4) ###\u001b[0m\n",
      "\u001b[31mmissing keys: ALL\u001b[0m\n",
      "\u001b[31mmeasurement is not valid (deleted)\u001b[0m\n",
      "\u001b[34m### 202112171 (2, 4) ###\u001b[0m\n",
      "\u001b[31mmissing keys: ALL\u001b[0m\n",
      "\u001b[31mmeasurement is not valid (deleted)\u001b[0m\n",
      "\u001b[34m### 202201061 (0, 0) ###\u001b[0m\n",
      "\u001b[31mmissing keys: ALL\u001b[0m\n",
      "\u001b[31mmeasurement is not valid (deleted)\u001b[0m\n",
      "\u001b[34m### 202201191 (4, 4) ###\u001b[0m\n",
      "\u001b[31mmissing keys: ALL\u001b[0m\n",
      "\u001b[31mmeasurement is not valid (deleted)\u001b[0m\n",
      "\u001b[34m### 202201310 (5, 5) ###\u001b[0m\n",
      "\u001b[31mmissing keys: ALL\u001b[0m\n",
      "\u001b[31mmeasurement is not valid (deleted)\u001b[0m\n",
      "\u001b[34m### 202203021 (0, 3) ###\u001b[0m\n",
      "\u001b[32mmeasurement_path_dict is OK\u001b[0m\n",
      "\u001b[34m### 202203221 (1, 2) ###\u001b[0m\n",
      "\u001b[32mmeasurement_path_dict is OK\u001b[0m\n",
      "\u001b[34m### 202203230 (1, 1) ###\u001b[0m\n",
      "\u001b[31mmissing keys: ALL\u001b[0m\n",
      "\u001b[31mmeasurement is not valid (deleted)\u001b[0m\n",
      "\u001b[34m\n",
      "Type of set: train\u001b[0m\n",
      "\u001b[34mNumber of measurements 13\u001b[0m\n",
      "\u001b[34mNumber of 0: 4 (30.77 %)\u001b[0m\n",
      "\u001b[34mNumber of 1: 1 (7.69 %)\u001b[0m\n",
      "\u001b[34mNumber of 2: 4 (30.77 %)\u001b[0m\n",
      "\u001b[34mNumber of 3: 0 (0.00 %)\u001b[0m\n",
      "\u001b[34mNumber of 4: 1 (7.69 %)\u001b[0m\n",
      "\u001b[34mNumber of 5: 3 (23.08 %)\u001b[0m\n",
      "\u001b[34m\n",
      "Type of set: test\u001b[0m\n",
      "\u001b[34mNumber of measurements 2\u001b[0m\n",
      "\u001b[34mNumber of 0: 1 (50.00 %)\u001b[0m\n",
      "\u001b[34mNumber of 1: 1 (50.00 %)\u001b[0m\n",
      "\u001b[34mNumber of 2: 0 (0.00 %)\u001b[0m\n",
      "\u001b[34mNumber of 3: 0 (0.00 %)\u001b[0m\n",
      "\u001b[34mNumber of 4: 0 (0.00 %)\u001b[0m\n",
      "\u001b[34mNumber of 5: 0 (0.00 %)\u001b[0m\n"
     ]
    }
   ],
   "source": [
    "from tensorflow.keras.models import Model\n",
    "from tensorflow.keras.layers import Input, Dense\n",
    "from tensorflow.keras.optimizers import Adam\n",
    "from tensorflow.keras.utils import to_categorical\n",
    "from tensorflow.keras.callbacks import EarlyStopping\n",
    "\n",
    "from sklearn.model_selection import train_test_split\n",
    "from sklearn.metrics import accuracy_score, confusion_matrix, ConfusionMatrixDisplay\n",
    "\n",
    "from accdb_reading import get_measure_df\n",
    "from measurement_collector import MeasurementCollector\n",
    "from cache_utils import cache\n",
    "from tqdm import tqdm\n",
    "import numpy as np\n",
    "import pickle\n",
    "\n",
    "def plot_cm_keras(_model, _X_test, _y_test):\n",
    "    predictions = _model.predict(_X_test)\n",
    "    cm = confusion_matrix(_y_test.argmax(axis=1), predictions.argmax(axis=1), normalize=\"pred\")\n",
    "    disp = ConfusionMatrixDisplay(confusion_matrix=cm, display_labels=np.unique(_y_test.argmax(axis=1)))\n",
    "    disp.plot()\n",
    "    \n",
    "_db_path = \"/home/levcsi/projects/stroke_prediction/data/WUS-v4m.accdb\"\n",
    "_m_path = \"/home/levcsi/projects/stroke_prediction/data/biocal.xlsx\"\n",
    "mc = MeasurementCollector('/home/levcsi/projects/stroke_prediction/data', _db_path, _m_path)"
   ]
  },
  {
   "cell_type": "code",
   "execution_count": 4,
   "id": "184dd82b",
   "metadata": {},
   "outputs": [],
   "source": [
    "minutes = 90\n",
    "length = 25 * 60 * minutes\n",
    "sample_size = 1000000\n",
    "limb = \"all\""
   ]
  },
  {
   "cell_type": "code",
   "execution_count": 3,
   "id": "b05e0ab9",
   "metadata": {
    "pycharm": {
     "name": "#%%\n"
    }
   },
   "outputs": [
    {
     "name": "stderr",
     "output_type": "stream",
     "text": [
      "100%|██████████████████████████████| 1000000/1000000 [1:50:27<00:00, 150.88it/s]\n"
     ]
    }
   ],
   "source": [
    "keys_in_order = ((\"arm\", \"acc\"),\n",
    "                 (\"leg\", \"acc\"),\n",
    "                 (\"arm\", \"gyr\"),\n",
    "                 (\"leg\", \"gyr\"))\n",
    "\n",
    "X = list()\n",
    "y = list()\n",
    "for _ in tqdm(range(sample_size)):\n",
    "    random_diff_dict, class_value = mc.get_random_mean_with_class_all(mean_type='all', limb=limb,\n",
    "                                                                      length=length, type_of_set=\"train\")\n",
    "    instance = list()\n",
    "    for key in keys_in_order:\n",
    "        if limb != \"all\" and key[0] != limb:\n",
    "            continue\n",
    "        instance.append(random_diff_dict[key])\n",
    "    instance = sum(instance, [])\n",
    "        \n",
    "    X.append(instance)\n",
    "    y.append(class_value)"
   ]
  },
  {
   "cell_type": "code",
   "execution_count": 4,
   "id": "f20e5aee",
   "metadata": {
    "pycharm": {
     "name": "#%%\n"
    }
   },
   "outputs": [],
   "source": [
    "del mc"
   ]
  },
  {
   "cell_type": "code",
   "execution_count": 5,
   "id": "628cb007",
   "metadata": {
    "pycharm": {
     "name": "#%%\n"
    }
   },
   "outputs": [],
   "source": [
    "pickle.dump({\"X\": X, \"y\": y}, open(\"./training_data_dict_{}_{}_{}.pkl\".format(minutes, sample_size, limb), \"wb\"))"
   ]
  },
  {
   "cell_type": "code",
   "execution_count": 8,
   "id": "9315817f",
   "metadata": {},
   "outputs": [],
   "source": [
    "training_data_dict = pickle.load(open(\"./training_data_dict_{}_{}_{}.pkl\".format(minutes, sample_size, \"all\"), \"rb\"))\n",
    "\n",
    "X = training_data_dict[\"X\"]\n",
    "y = training_data_dict[\"y\"]"
   ]
  },
  {
   "cell_type": "code",
   "execution_count": 9,
   "id": "e6383e67",
   "metadata": {
    "pycharm": {
     "name": "#%%\n"
    }
   },
   "outputs": [],
   "source": [
    "def define_model(inpit_shape):\n",
    "    ip = Input(shape=(inpit_shape,), name=\"input\")\n",
    "    x = Dense(units=512, name=\"hiddel_layer\", activation=\"relu\")(ip)\n",
    "    x = Dense(units=256, name=\"hiddel_layer_2\", activation=\"relu\")(x)\n",
    "    x = Dense(units=128, name=\"hiddel_layer_3\", activation=\"relu\")(x)\n",
    "    op = Dense(units=6, name=\"prediction\", activation=\"softmax\")(x)\n",
    "    _model = Model(inputs=ip, outputs=op, name=\"full_model\")\n",
    "    _model.summary()\n",
    "    \n",
    "    learning_rate = 0.001\n",
    "    optimizer = Adam(learning_rate, amsgrad=True)\n",
    "    _model.compile(loss=\"categorical_crossentropy\", optimizer=optimizer, metrics=[\"accuracy\"])\n",
    "    return _model"
   ]
  },
  {
   "cell_type": "code",
   "execution_count": 10,
   "id": "b5e6be60",
   "metadata": {
    "pycharm": {
     "name": "#%%\n"
    }
   },
   "outputs": [],
   "source": [
    "y_cat = to_categorical(y)\n",
    "X_train, X_test, y_train, y_test = train_test_split(np.array(X), np.array(y_cat),\n",
    "                                                    test_size=0.3, stratify=y,\n",
    "                                                    random_state=42)"
   ]
  },
  {
   "cell_type": "code",
   "execution_count": 11,
   "id": "e54b9a1f",
   "metadata": {
    "pycharm": {
     "name": "#%%\n"
    },
    "scrolled": true
   },
   "outputs": [
    {
     "name": "stdout",
     "output_type": "stream",
     "text": [
      "Model: \"full_model\"\n",
      "_________________________________________________________________\n",
      " Layer (type)                Output Shape              Param #   \n",
      "=================================================================\n",
      " input (InputLayer)          [(None, 12)]              0         \n",
      "                                                                 \n",
      " hiddel_layer (Dense)        (None, 512)               6656      \n",
      "                                                                 \n",
      " hiddel_layer_2 (Dense)      (None, 256)               131328    \n",
      "                                                                 \n",
      " hiddel_layer_3 (Dense)      (None, 128)               32896     \n",
      "                                                                 \n",
      " prediction (Dense)          (None, 6)                 774       \n",
      "                                                                 \n",
      "=================================================================\n",
      "Total params: 171,654\n",
      "Trainable params: 171,654\n",
      "Non-trainable params: 0\n",
      "_________________________________________________________________\n"
     ]
    },
    {
     "name": "stderr",
     "output_type": "stream",
     "text": [
      "2022-04-26 22:27:24.673921: W tensorflow/stream_executor/platform/default/dso_loader.cc:64] Could not load dynamic library 'libcuda.so.1'; dlerror: libcuda.so.1: cannot open shared object file: No such file or directory\n",
      "2022-04-26 22:27:24.673973: W tensorflow/stream_executor/cuda/cuda_driver.cc:269] failed call to cuInit: UNKNOWN ERROR (303)\n",
      "2022-04-26 22:27:24.674009: I tensorflow/stream_executor/cuda/cuda_diagnostics.cc:156] kernel driver does not appear to be running on this host (pox): /proc/driver/nvidia/version does not exist\n",
      "2022-04-26 22:27:24.674662: I tensorflow/core/platform/cpu_feature_guard.cc:151] This TensorFlow binary is optimized with oneAPI Deep Neural Network Library (oneDNN) to use the following CPU instructions in performance-critical operations:  AVX2 FMA\n",
      "To enable them in other operations, rebuild TensorFlow with the appropriate compiler flags.\n"
     ]
    },
    {
     "name": "stdout",
     "output_type": "stream",
     "text": [
      "Epoch 1/1500\n",
      "7000/7000 [==============================] - 44s 6ms/step - loss: 0.4279 - accuracy: 0.8287 - val_loss: 0.3308 - val_accuracy: 0.8711\n",
      "Epoch 2/1500\n",
      "7000/7000 [==============================] - 31s 4ms/step - loss: 0.3179 - accuracy: 0.8765 - val_loss: 0.3129 - val_accuracy: 0.8784\n",
      "Epoch 3/1500\n",
      "7000/7000 [==============================] - 34s 5ms/step - loss: 0.2906 - accuracy: 0.8877 - val_loss: 0.2883 - val_accuracy: 0.8883\n",
      "Epoch 4/1500\n",
      "7000/7000 [==============================] - 33s 5ms/step - loss: 0.2682 - accuracy: 0.8966 - val_loss: 0.2665 - val_accuracy: 0.8978\n",
      "Epoch 5/1500\n",
      "7000/7000 [==============================] - 33s 5ms/step - loss: 0.2551 - accuracy: 0.9017 - val_loss: 0.2472 - val_accuracy: 0.9054\n",
      "Epoch 6/1500\n",
      "7000/7000 [==============================] - 33s 5ms/step - loss: 0.2464 - accuracy: 0.9054 - val_loss: 0.2487 - val_accuracy: 0.9051\n",
      "Epoch 7/1500\n",
      "7000/7000 [==============================] - 33s 5ms/step - loss: 0.2393 - accuracy: 0.9086 - val_loss: 0.2322 - val_accuracy: 0.9117\n",
      "Epoch 8/1500\n",
      "7000/7000 [==============================] - 33s 5ms/step - loss: 0.2315 - accuracy: 0.9112 - val_loss: 0.2441 - val_accuracy: 0.9059\n",
      "Epoch 9/1500\n",
      "7000/7000 [==============================] - 33s 5ms/step - loss: 0.2250 - accuracy: 0.9138 - val_loss: 0.2259 - val_accuracy: 0.9144\n",
      "Epoch 10/1500\n",
      "7000/7000 [==============================] - 33s 5ms/step - loss: 0.2209 - accuracy: 0.9154 - val_loss: 0.2356 - val_accuracy: 0.9102\n",
      "Epoch 11/1500\n",
      "7000/7000 [==============================] - 33s 5ms/step - loss: 0.2155 - accuracy: 0.9175 - val_loss: 0.2276 - val_accuracy: 0.9133\n",
      "Epoch 12/1500\n",
      "7000/7000 [==============================] - 33s 5ms/step - loss: 0.2127 - accuracy: 0.9186 - val_loss: 0.2268 - val_accuracy: 0.9141\n",
      "Epoch 13/1500\n",
      "7000/7000 [==============================] - 33s 5ms/step - loss: 0.2094 - accuracy: 0.9199 - val_loss: 0.2119 - val_accuracy: 0.9193\n",
      "Epoch 14/1500\n",
      "7000/7000 [==============================] - 33s 5ms/step - loss: 0.2067 - accuracy: 0.9212 - val_loss: 0.2126 - val_accuracy: 0.9193\n",
      "Epoch 15/1500\n",
      "7000/7000 [==============================] - 36s 5ms/step - loss: 0.2042 - accuracy: 0.9221 - val_loss: 0.2095 - val_accuracy: 0.9206\n",
      "Epoch 16/1500\n",
      "7000/7000 [==============================] - 35s 5ms/step - loss: 0.2017 - accuracy: 0.9229 - val_loss: 0.2188 - val_accuracy: 0.9162\n",
      "Epoch 17/1500\n",
      "7000/7000 [==============================] - 35s 5ms/step - loss: 0.2002 - accuracy: 0.9234 - val_loss: 0.2066 - val_accuracy: 0.9217\n",
      "Epoch 18/1500\n",
      "7000/7000 [==============================] - 36s 5ms/step - loss: 0.1980 - accuracy: 0.9244 - val_loss: 0.2122 - val_accuracy: 0.9190\n",
      "Epoch 19/1500\n",
      "7000/7000 [==============================] - 36s 5ms/step - loss: 0.1968 - accuracy: 0.9246 - val_loss: 0.2052 - val_accuracy: 0.9220\n",
      "Epoch 20/1500\n",
      "7000/7000 [==============================] - 35s 5ms/step - loss: 0.1953 - accuracy: 0.9255 - val_loss: 0.2025 - val_accuracy: 0.9233\n",
      "Epoch 21/1500\n",
      "7000/7000 [==============================] - 36s 5ms/step - loss: 0.1938 - accuracy: 0.9260 - val_loss: 0.2161 - val_accuracy: 0.9184\n",
      "Epoch 22/1500\n",
      "7000/7000 [==============================] - 35s 5ms/step - loss: 0.1922 - accuracy: 0.9264 - val_loss: 0.2127 - val_accuracy: 0.9188\n",
      "Epoch 23/1500\n",
      "7000/7000 [==============================] - 36s 5ms/step - loss: 0.1912 - accuracy: 0.9270 - val_loss: 0.2143 - val_accuracy: 0.9190\n",
      "Epoch 24/1500\n",
      "7000/7000 [==============================] - 35s 5ms/step - loss: 0.1897 - accuracy: 0.9273 - val_loss: 0.2150 - val_accuracy: 0.9184\n",
      "Epoch 25/1500\n",
      "7000/7000 [==============================] - 36s 5ms/step - loss: 0.1888 - accuracy: 0.9279 - val_loss: 0.2064 - val_accuracy: 0.9213\n",
      "Epoch 26/1500\n",
      "7000/7000 [==============================] - 35s 5ms/step - loss: 0.1877 - accuracy: 0.9281 - val_loss: 0.2013 - val_accuracy: 0.9234\n",
      "Epoch 27/1500\n",
      "7000/7000 [==============================] - 35s 5ms/step - loss: 0.1866 - accuracy: 0.9288 - val_loss: 0.1997 - val_accuracy: 0.9247\n",
      "Epoch 28/1500\n",
      "7000/7000 [==============================] - 35s 5ms/step - loss: 0.1858 - accuracy: 0.9291 - val_loss: 0.1994 - val_accuracy: 0.9248\n",
      "Epoch 29/1500\n",
      "7000/7000 [==============================] - 36s 5ms/step - loss: 0.1840 - accuracy: 0.9296 - val_loss: 0.2074 - val_accuracy: 0.9222\n",
      "Epoch 30/1500\n",
      "7000/7000 [==============================] - 35s 5ms/step - loss: 0.1833 - accuracy: 0.9297 - val_loss: 0.2074 - val_accuracy: 0.9220\n",
      "Epoch 31/1500\n",
      "7000/7000 [==============================] - 35s 5ms/step - loss: 0.1823 - accuracy: 0.9303 - val_loss: 0.2031 - val_accuracy: 0.9236\n",
      "Epoch 32/1500\n",
      "7000/7000 [==============================] - 34s 5ms/step - loss: 0.1810 - accuracy: 0.9308 - val_loss: 0.2009 - val_accuracy: 0.9244\n",
      "Epoch 33/1500\n",
      "7000/7000 [==============================] - 28s 4ms/step - loss: 0.1802 - accuracy: 0.9310 - val_loss: 0.2040 - val_accuracy: 0.9238\n",
      "Epoch 34/1500\n",
      "7000/7000 [==============================] - 31s 4ms/step - loss: 0.1795 - accuracy: 0.9312 - val_loss: 0.1979 - val_accuracy: 0.9253\n",
      "Epoch 35/1500\n",
      "7000/7000 [==============================] - 29s 4ms/step - loss: 0.1779 - accuracy: 0.9321 - val_loss: 0.2003 - val_accuracy: 0.9249\n",
      "Epoch 36/1500\n",
      "7000/7000 [==============================] - 30s 4ms/step - loss: 0.1774 - accuracy: 0.9322 - val_loss: 0.1964 - val_accuracy: 0.9266\n",
      "Epoch 37/1500\n",
      "7000/7000 [==============================] - 28s 4ms/step - loss: 0.1764 - accuracy: 0.9326 - val_loss: 0.1961 - val_accuracy: 0.9268\n",
      "Epoch 38/1500\n",
      "7000/7000 [==============================] - 27s 4ms/step - loss: 0.1755 - accuracy: 0.9330 - val_loss: 0.1928 - val_accuracy: 0.9273\n",
      "Epoch 39/1500\n",
      "7000/7000 [==============================] - 26s 4ms/step - loss: 0.1742 - accuracy: 0.9336 - val_loss: 0.1928 - val_accuracy: 0.9273\n",
      "Epoch 40/1500\n",
      "7000/7000 [==============================] - 27s 4ms/step - loss: 0.1736 - accuracy: 0.9336 - val_loss: 0.2057 - val_accuracy: 0.9227\n",
      "Epoch 41/1500\n",
      "7000/7000 [==============================] - 29s 4ms/step - loss: 0.1722 - accuracy: 0.9342 - val_loss: 0.2030 - val_accuracy: 0.9235\n",
      "Epoch 42/1500\n",
      "7000/7000 [==============================] - 28s 4ms/step - loss: 0.1716 - accuracy: 0.9344 - val_loss: 0.1978 - val_accuracy: 0.9261\n",
      "Epoch 43/1500\n",
      "7000/7000 [==============================] - 28s 4ms/step - loss: 0.1712 - accuracy: 0.9344 - val_loss: 0.1959 - val_accuracy: 0.9268\n",
      "Epoch 44/1500\n",
      "7000/7000 [==============================] - 33s 5ms/step - loss: 0.1700 - accuracy: 0.9349 - val_loss: 0.1993 - val_accuracy: 0.9254\n",
      "Epoch 45/1500\n",
      "7000/7000 [==============================] - 29s 4ms/step - loss: 0.1686 - accuracy: 0.9352 - val_loss: 0.1985 - val_accuracy: 0.9259\n",
      "Epoch 46/1500\n",
      "7000/7000 [==============================] - 34s 5ms/step - loss: 0.1681 - accuracy: 0.9358 - val_loss: 0.2045 - val_accuracy: 0.9236\n",
      "Epoch 47/1500\n",
      "7000/7000 [==============================] - 36s 5ms/step - loss: 0.1671 - accuracy: 0.9360 - val_loss: 0.1990 - val_accuracy: 0.9260\n",
      "Epoch 48/1500\n",
      "7000/7000 [==============================] - 27s 4ms/step - loss: 0.1668 - accuracy: 0.9362 - val_loss: 0.1948 - val_accuracy: 0.9277\n",
      "Epoch 49/1500\n",
      "7000/7000 [==============================] - 29s 4ms/step - loss: 0.1662 - accuracy: 0.9366 - val_loss: 0.1889 - val_accuracy: 0.9292\n",
      "Epoch 50/1500\n",
      "7000/7000 [==============================] - 33s 5ms/step - loss: 0.1651 - accuracy: 0.9366 - val_loss: 0.1988 - val_accuracy: 0.9261\n",
      "Epoch 51/1500\n",
      "7000/7000 [==============================] - 42s 6ms/step - loss: 0.1649 - accuracy: 0.9370 - val_loss: 0.1954 - val_accuracy: 0.9274\n",
      "Epoch 52/1500\n",
      "7000/7000 [==============================] - 41s 6ms/step - loss: 0.1638 - accuracy: 0.9375 - val_loss: 0.2045 - val_accuracy: 0.9238\n",
      "Epoch 53/1500\n",
      "7000/7000 [==============================] - 31s 4ms/step - loss: 0.1626 - accuracy: 0.9379 - val_loss: 0.1955 - val_accuracy: 0.9279\n",
      "Epoch 54/1500\n",
      "7000/7000 [==============================] - 26s 4ms/step - loss: 0.1627 - accuracy: 0.9376 - val_loss: 0.1935 - val_accuracy: 0.9285\n",
      "Epoch 55/1500\n",
      "7000/7000 [==============================] - 26s 4ms/step - loss: 0.1620 - accuracy: 0.9380 - val_loss: 0.1911 - val_accuracy: 0.9291\n",
      "Epoch 56/1500\n"
     ]
    },
    {
     "name": "stdout",
     "output_type": "stream",
     "text": [
      "7000/7000 [==============================] - 26s 4ms/step - loss: 0.1612 - accuracy: 0.9384 - val_loss: 0.1999 - val_accuracy: 0.9270\n",
      "Epoch 57/1500\n",
      "7000/7000 [==============================] - 26s 4ms/step - loss: 0.1603 - accuracy: 0.9385 - val_loss: 0.2006 - val_accuracy: 0.9264\n",
      "Epoch 58/1500\n",
      "7000/7000 [==============================] - 30s 4ms/step - loss: 0.1600 - accuracy: 0.9386 - val_loss: 0.1969 - val_accuracy: 0.9278\n",
      "Epoch 59/1500\n",
      "7000/7000 [==============================] - 33s 5ms/step - loss: 0.1596 - accuracy: 0.9391 - val_loss: 0.1966 - val_accuracy: 0.9279\n",
      "Epoch 60/1500\n",
      "7000/7000 [==============================] - 30s 4ms/step - loss: 0.1587 - accuracy: 0.9394 - val_loss: 0.1986 - val_accuracy: 0.9267\n",
      "Epoch 61/1500\n",
      "7000/7000 [==============================] - 27s 4ms/step - loss: 0.1575 - accuracy: 0.9398 - val_loss: 0.1987 - val_accuracy: 0.9266\n",
      "Epoch 62/1500\n",
      "7000/7000 [==============================] - 29s 4ms/step - loss: 0.1577 - accuracy: 0.9399 - val_loss: 0.1974 - val_accuracy: 0.9274\n",
      "Epoch 63/1500\n",
      "7000/7000 [==============================] - 28s 4ms/step - loss: 0.1565 - accuracy: 0.9402 - val_loss: 0.1961 - val_accuracy: 0.9287\n",
      "Epoch 64/1500\n",
      "7000/7000 [==============================] - 27s 4ms/step - loss: 0.1561 - accuracy: 0.9404 - val_loss: 0.2024 - val_accuracy: 0.9264\n",
      "Epoch 65/1500\n",
      "7000/7000 [==============================] - 32s 5ms/step - loss: 0.1559 - accuracy: 0.9404 - val_loss: 0.2014 - val_accuracy: 0.9264\n",
      "Epoch 66/1500\n",
      "7000/7000 [==============================] - 30s 4ms/step - loss: 0.1556 - accuracy: 0.9407 - val_loss: 0.1976 - val_accuracy: 0.9278\n",
      "Epoch 67/1500\n",
      "7000/7000 [==============================] - 31s 4ms/step - loss: 0.1549 - accuracy: 0.9407 - val_loss: 0.1959 - val_accuracy: 0.9290\n",
      "Epoch 68/1500\n",
      "7000/7000 [==============================] - 30s 4ms/step - loss: 0.1543 - accuracy: 0.9410 - val_loss: 0.1983 - val_accuracy: 0.9274\n",
      "Epoch 69/1500\n",
      "7000/7000 [==============================] - 39s 6ms/step - loss: 0.1541 - accuracy: 0.9409 - val_loss: 0.1991 - val_accuracy: 0.9280\n"
     ]
    }
   ],
   "source": [
    "callback = EarlyStopping(monitor='val_loss', patience=20)\n",
    "model = define_model(X_train.shape[1])\n",
    "history = model.fit(X_train,\n",
    "                    y_train,\n",
    "                    batch_size=100,\n",
    "                    epochs=1500,\n",
    "                    callbacks=[callback],\n",
    "                    verbose=1,\n",
    "                    validation_data=(X_test, y_test))"
   ]
  },
  {
   "cell_type": "code",
   "execution_count": 12,
   "id": "9e9a3aaa",
   "metadata": {
    "pycharm": {
     "is_executing": true,
     "name": "#%%\n"
    }
   },
   "outputs": [
    {
     "name": "stdout",
     "output_type": "stream",
     "text": [
      "Train accuracy: 0.9427014285714286\n",
      "Test accuracy: 0.92796\n"
     ]
    },
    {
     "data": {
      "image/png": "[encoded data removed]",
      "text/plain": [
       "<Figure size 432x288 with 2 Axes>"
      ]
     },
     "metadata": {
      "needs_background": "light"
     },
     "output_type": "display_data"
    },
    {
     "data": {
      "image/png": "[encoded data removed]",
      "text/plain": [
       "<Figure size 432x288 with 2 Axes>"
      ]
     },
     "metadata": {
      "needs_background": "light"
     },
     "output_type": "display_data"
    }
   ],
   "source": [
    "y_pred_train = model.predict(X_train)\n",
    "print(\"Train accuracy: {}\".format(accuracy_score(np.argmax(y_train, axis=1),\n",
    "                                                 np.argmax(y_pred_train, axis=1))))\n",
    "y_pred_test = model.predict(X_test)\n",
    "print(\"Test accuracy: {}\".format(accuracy_score(np.argmax(y_test, axis=1),\n",
    "                                                np.argmax(y_pred_test, axis=1))))\n",
    "plot_cm_keras(model, X_train, y_train)\n",
    "plot_cm_keras(model, X_test, y_test)"
   ]
  },
  {
   "cell_type": "code",
   "execution_count": null,
   "id": "990bfaa4",
   "metadata": {
    "pycharm": {
     "name": "#%%\n"
    }
   },
   "outputs": [],
   "source": [
    "model.save('./models/model_{}_{}_{}'.format(minutes, sample_size, limb))"
   ]
  },
  {
   "cell_type": "code",
   "execution_count": null,
   "id": "aa84d57d",
   "metadata": {
    "pycharm": {
     "name": "#%%\n"
    }
   },
   "outputs": [],
   "source": []
  },
  {
   "cell_type": "code",
   "execution_count": null,
   "id": "2a78cc25",
   "metadata": {
    "pycharm": {
     "name": "#%%\n"
    }
   },
   "outputs": [],
   "source": []
  },
  {
   "cell_type": "code",
   "execution_count": null,
   "id": "b22da4b8",
   "metadata": {
    "pycharm": {
     "name": "#%%\n"
    }
   },
   "outputs": [],
   "source": []
  },
  {
   "cell_type": "code",
   "execution_count": null,
   "id": "31f1e245",
   "metadata": {
    "pycharm": {
     "name": "#%%\n"
    }
   },
   "outputs": [],
   "source": []
  }
 ],
 "metadata": {
  "kernelspec": {
   "display_name": "sp_venv",
   "language": "python",
   "name": "sp_venv"
  },
  "language_info": {
   "codemirror_mode": {
    "name": "ipython",
    "version": 3
   },
   "file_extension": ".py",
   "mimetype": "text/x-python",
   "name": "python",
   "nbconvert_exporter": "python",
   "pygments_lexer": "ipython3",
   "version": "3.8.0"
  }
 },
 "nbformat": 4,
 "nbformat_minor": 5
}
